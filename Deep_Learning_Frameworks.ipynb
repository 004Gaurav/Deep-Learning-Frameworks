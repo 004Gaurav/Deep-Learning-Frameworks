{
  "nbformat": 4,
  "nbformat_minor": 0,
  "metadata": {
    "colab": {
      "provenance": []
    },
    "kernelspec": {
      "name": "python3",
      "display_name": "Python 3"
    },
    "language_info": {
      "name": "python"
    }
  },
  "cells": [
    {
      "cell_type": "markdown",
      "source": [
        "# **Theoritical Question :**"
      ],
      "metadata": {
        "id": "yjDIiHctRpWV"
      }
    },
    {
      "cell_type": "markdown",
      "source": [
        "#1. What is TensorFlow 2.0, and how is it different from TensorFlow 1.x ?\n",
        "\n",
        "- **Answer:**\n",
        "\n",
        " **TensorFlow 2.0** is an updated and more user-friendly version of TensorFlow, which is a popular open-source deep learning library developed by Google.\n",
        "\n",
        " ###  **Key Differences from TensorFlow 1.x:**\n",
        "\n",
        "1. **Easier to Use**:\n",
        "   TensorFlow 2.0 is more beginner-friendly. It uses Pythonic code and feels more natural with fewer confusing steps.\n",
        "\n",
        "2. **Eager Execution (By Default)**:\n",
        "   In TF 1.x, we had to build a graph first, then run it in a session. In TF 2.0, the code runs line-by-line like normal Python, making debugging and learning easier.\n",
        "\n",
        "3. **Keras Integration**:\n",
        "   Keras is now the default high-level API in TF 2.0. It allows us to build and train models in fewer lines.\n",
        "\n",
        "4. **No Sessions or Placeholders**:\n",
        "   These were used in TF 1.x and often confused beginners. TF 2.0 removes them for simplicity.\n",
        "\n",
        "5. **Improved Performance and Compatibility**:\n",
        "   TF 2.0 runs faster and supports modern tools like TensorFlow Lite (for mobile) and TensorFlow\\.js (for web).\n",
        "\n",
        "----\n",
        "\n",
        "#2. **How do you install TensorFlow 2.0 ?**\n",
        "\n",
        "- **Answer:**\n",
        "\n",
        " To install **TensorFlow 2.0**, you need Python installed (preferably version 3.6 or above) and then run this command in your terminal or command prompt:\n",
        "\n",
        " ```bash\n",
        " pip install tensorflow\n",
        "   ```\n",
        "\n",
        " This installs the latest stable version of TensorFlow (which is 2.x by default).\n",
        "\n",
        "\n",
        "   ###  Step-by-Step (Windows/Mac/Linux):\n",
        "\n",
        "1. **Open Terminal (or Anaconda Prompt)**\n",
        "\n",
        "2. **Create a virtual environment** (optional but recommended):\n",
        "\n",
        "   ```bash\n",
        "   python -m venv tf-env\n",
        "   ```\n",
        "\n",
        "   Then activate it:\n",
        "\n",
        "   * Windows: `tf-env\\Scripts\\activate`\n",
        "   * Mac/Linux: `source tf-env/bin/activate`\n",
        "\n",
        "3. **Install TensorFlow 2.0**:\n",
        "\n",
        "   ```bash\n",
        "   pip install tensorflow\n",
        "   ```\n",
        "\n",
        "4. **Verify installation**:\n",
        "   Open Python and type:\n",
        "\n",
        "   ```python\n",
        "   import tensorflow as tf\n",
        "   print(tf.__version__)\n",
        "   ```\n",
        "\n",
        "----\n",
        "\n",
        "#3. **What is the primary function of the tf.function in TensorFlow 2.0?**\n",
        "\n",
        "-  **Answer:**\n",
        "\n",
        " `tf.function` is used in TensorFlow 2.0 to convert a Python function into a TensorFlow graph. This improves performance by running the code more efficiently.\n",
        "\n",
        " In normal Python, code runs step by step, which is slower. With `tf.function`, TensorFlow traces the function and builds a graph that runs faster and can be optimized or deployed.\n",
        "\n",
        " For example:\n",
        "\n",
        " ```python\n",
        " import tensorflow as tf\n",
        "\n",
        " @tf.function\n",
        " def multiply(a, b):\n",
        "     return a * b\n",
        "\n",
        " print(multiply(3, 4))\n",
        " ```\n",
        "\n",
        " Here, the `multiply` function is automatically converted into a graph. This is useful when training models or doing complex computations.\n",
        "\n",
        " In simple terms, `tf.function` is used to make TensorFlow code faster and ready for production.\n",
        "---\n",
        "\n",
        "# 4. **What is the purpose of the Model class in TensorFlow 2.0 ?**\n",
        "\n",
        "- **Answer:**\n",
        "\n",
        " The purpose of the `Model` class in TensorFlow 2.0 (from `tf.keras`) is to define and manage the structure of a neural network.\n",
        "\n",
        " It allows you to combine layers, write a custom forward pass (called the `call()` method), and gives built-in support for training, evaluation, and prediction.\n",
        "\n",
        " The `Model` class also provides functions like `compile()`, `fit()`, `evaluate()`, and `predict()` to make training and testing easier.\n",
        "\n",
        " It is used when you want more control over how your model works, especially for complex architectures.\n",
        "\n",
        "---\n",
        "\n",
        "#5. **How do you create a neural network using TensorFlow 2.0 ?**\n",
        "\n",
        "- **Answer:**\n",
        "\n",
        " You can create a neural network in TensorFlow 2.0 using the `Sequential` API or by subclassing the `Model` class.\n",
        "\n",
        " **Using Sequential API (simple way):**\n",
        "\n",
        " ```python\n",
        " import tensorflow as tf\n",
        "\n",
        " model = tf.keras.Sequential([\n",
        "     tf.keras.layers.Dense(64, activation='relu', input_shape=(10,)),\n",
        "     tf.keras.layers.Dense(1)\n",
        " ])\n",
        "\n",
        " model.compile(optimizer='adam', loss='mse')\n",
        " model.fit(X_train, y_train, epochs=10)\n",
        " ```\n",
        "\n",
        " This creates a basic network with one hidden layer and one output layer. The `fit()` function trains it using the input and target data.\n",
        "\n",
        " This is the easiest way to build and train a neural network in TensorFlow 2.0.\n",
        "\n",
        "---\n",
        "\n",
        "#6. **What is the importance of Tensor Space in TensorFlow ?**\n",
        "\n",
        "- **Answer:**\n",
        "\n",
        "In TensorFlow, **tensor space** refers to the multi-dimensional space where data is represented and processed.\n",
        "\n",
        "Tensors are the core data structure in TensorFlow. A tensor is just a generalization of numbers, vectors, and matrices into higher dimensions. For example:\n",
        "\n",
        "* A single number is a 0D tensor.\n",
        "* A list is a 1D tensor.\n",
        "* A table is a 2D tensor.\n",
        "* Images (height × width × channels) are 3D or 4D tensors.\n",
        "\n",
        "**Importance:**\n",
        "\n",
        "1. **Efficient computation**: Tensors allow data to be processed efficiently on CPUs, GPUs, or TPUs.\n",
        "2. **Model input/output**: All inputs, weights, and outputs in a neural network are tensors.\n",
        "3. **Flexibility**: Tensor space helps handle data of any shape or size, making it easy to work with images, text, or time-series.\n",
        "\n",
        "In short, tensor space allows TensorFlow to represent and process all forms of data in a unified way.\n",
        "\n",
        "---\n",
        "\n",
        "#7. How can TensorBoard be integrated with TensorFlow 2.0 ?\n",
        "\n",
        "- **Answer:**\n",
        "\n",
        " TensorBoard can be integrated with TensorFlow 2.0 using a built-in callback during model training. It helps visualize training metrics like loss, accuracy, and learning curves.\n",
        "\n",
        " **Steps to integrate:**\n",
        "\n",
        " 1. **Import TensorBoard callback:**\n",
        "\n",
        " ```python\n",
        " from tensorflow.keras.callbacks import TensorBoard\n",
        " ```\n",
        "\n",
        " 2. **Create a log directory:**\n",
        "\n",
        " ```python\n",
        " log_dir = \"logs/\"\n",
        " ```\n",
        "\n",
        " 3. **Initialize the callback:**\n",
        "\n",
        " ```python\n",
        " tensorboard_cb = TensorBoard(log_dir=log_dir)\n",
        " ```\n",
        "\n",
        " 4. **Pass it to the `fit()` function:**\n",
        "\n",
        " ```python\n",
        " model.fit(X_train, y_train, epochs=5, callbacks=[tensorboard_cb])\n",
        " ```\n",
        "\n",
        " 5. **Launch TensorBoard in terminal:**\n",
        "\n",
        " ```bash\n",
        " tensorboard --logdir=logs/\n",
        " ```\n",
        "\n",
        " Then open the provided URL in your browser to see training graphs and metrics. This helps in tracking model performance and debugging.\n",
        "\n",
        "---\n",
        "\n",
        "#8. What is the purpose of TensorFlow Playground ?\n",
        "\n",
        "- **Answer:**\n",
        "\n",
        "The purpose of **TensorFlow Playground** is to help users visually understand how neural networks work. It is an interactive online tool where you can experiment with simple neural networks directly in the browser without writing any code.\n",
        "\n",
        "You can adjust parameters like the number of layers, number of neurons, activation functions, input features, and learning rate. As the model trains, it shows how the decision boundary changes and how well the model fits the data.\n",
        "\n",
        "This tool is especially useful for beginners because it makes abstract concepts like backpropagation, activation, and overfitting easier to understand. It builds intuition about how neural networks learn from data through hands-on visualization.\n",
        "\n",
        "---\n",
        "\n",
        "#9. What is Netron, and how is it useful for deep learning models?\n",
        "\n",
        "- **Answer:**\n",
        "\n",
        " **Netron** is a model visualization tool that lets you open and explore the internal structure of deep learning models. It supports many model formats such as TensorFlow (`.pb`, `.h5`), PyTorch (`.pt`, `.pth`), ONNX, Keras, and others.\n",
        "\n",
        " Netron displays the model architecture layer by layer, showing details like layer types (Dense, Conv2D, etc.), input and output shapes, and the number of parameters in each layer. This helps users understand how data flows through the network and how the model is built.\n",
        "\n",
        " It is especially useful when working with complex or pre-trained models, as it helps in debugging, documentation, and presentation. By visually inspecting the structure, developers can ensure the model is designed correctly and easily explain it to others.\n",
        "\n",
        "---\n",
        "\n",
        "#10. What is the difference between TensorFlow and PyTorch ?\n",
        "\n",
        "- **Answer:**\n",
        "\n",
        " The main difference between **TensorFlow** and **PyTorch** lies in how they handle model building and execution.\n",
        "\n",
        " **PyTorch** uses **dynamic computation graphs**, also called eager execution. This means the code runs step-by-step, like regular Python. It is easier to debug, more flexible, and feels more intuitive to write. This makes it popular in research and experimentation.\n",
        "\n",
        " **TensorFlow** originally used **static computation graphs**, which are defined first and run later. This approach is faster and better for deployment, but harder to debug. However, with TensorFlow 2.0, eager execution is now the default, making it more like PyTorch in coding style while still supporting static graphs when needed.\n",
        "\n",
        " TensorFlow also includes more built-in tools for production, such as TensorBoard for visualization, TensorFlow Lite for mobile apps, and TensorFlow Serving for deployment. PyTorch has similar tools but is generally preferred for fast development and academic use.\n",
        "\n",
        " In summary, PyTorch is often chosen for flexibility and ease of use, while TensorFlow is preferred for scalability and production-ready tools.\n",
        "\n",
        "---\n",
        "\n",
        "#11.  How do you install PyTorch ?\n",
        "\n",
        "- **Answer:**\n",
        "\n",
        "To install **PyTorch**, you need Python and `pip`. The official PyTorch website ([https://pytorch.org](https://pytorch.org)) provides a configuration selector based on your system and preferences.\n",
        "\n",
        "For most systems, the basic installation command is:\n",
        "\n",
        "```bash\n",
        "pip install torch torchvision torchaudio\n",
        "```\n",
        "\n",
        "This installs PyTorch along with `torchvision` (for image datasets and models) and `torchaudio` (for audio tasks).\n",
        "\n",
        "If you want to use **GPU support**, install it with the matching CUDA version. For example:\n",
        "\n",
        "```bash\n",
        "pip install torch torchvision torchaudio --index-url https://download.pytorch.org/whl/cu118\n",
        "```\n",
        "\n",
        "You can also create a virtual environment before installation to keep your projects organized. After installing, test it using:\n",
        "\n",
        "```python\n",
        "import torch\n",
        "print(torch.__version__)\n",
        "```\n",
        "\n",
        "This confirms that PyTorch is installed correctly.\n",
        "\n",
        "----\n",
        "\n",
        "#12. What is the basic structure of a PyTorch neural network ?\n",
        "\n",
        "- **Answer:**\n",
        "\n",
        "The basic structure of a PyTorch neural network involves creating a class that inherits from `torch.nn.Module`. Inside the class, you define the layers in the `__init__` method and the forward computation in the `forward()` method.\n",
        "\n",
        "Here’s a simple example:\n",
        "\n",
        "```python\n",
        "import torch\n",
        "import torch.nn as nn\n",
        "\n",
        "class SimpleNN(nn.Module):\n",
        "    def __init__(self):\n",
        "        super(SimpleNN, self).__init__()\n",
        "        self.fc1 = nn.Linear(10, 50)   # First layer: input size 10, output size 50\n",
        "        self.relu = nn.ReLU()          # Activation function\n",
        "        self.fc2 = nn.Linear(50, 1)    # Output layer\n",
        "\n",
        "    def forward(self, x):\n",
        "        x = self.fc1(x)\n",
        "        x = self.relu(x)\n",
        "        x = self.fc2(x)\n",
        "        return x\n",
        "```\n",
        "\n",
        "To use this network, you create an instance of the class, send input data through it, and get the output. This structure separates model architecture (`__init__`) from data flow (`forward()`), which makes it flexible and easy to customize.\n",
        "\n",
        "---\n",
        "\n",
        "#13. What is the significance of tensors in PyTorch ?\n",
        "\n",
        "- **Answer:**\n",
        "\n",
        " Tensors are the core data structure in PyTorch. They are used to store and manipulate all data — from inputs and outputs to model weights and gradients.\n",
        "\n",
        " A tensor is like a multi-dimensional array (similar to NumPy arrays), but with the added ability to run on a GPU, which makes computations much faster for deep learning tasks.\n",
        "\n",
        " Significance of tensors in PyTorch:\n",
        "\n",
        " 1. **Data representation**: Images, text, audio, and other input data are all converted into tensors before being passed into a model.\n",
        " 2. **Mathematical operations**: PyTorch provides many tensor operations like addition, multiplication, reshaping, and more, which are essential for neural network computations.\n",
        " 3. **Automatic differentiation**: Tensors can track gradients using `.requires_grad = True`, which is crucial for training models using backpropagation.\n",
        " 4. **GPU support**: Tensors can be easily moved to a GPU using `.to('cuda')`, enabling faster training.\n",
        "\n",
        " In short, tensors are the building blocks of PyTorch. Every model, layer, and operation revolves around them.\n",
        "\n",
        "---\n",
        "\n",
        "Here are the detailed answers to questions 14–21, with clear explanations and good depth:\n",
        "\n",
        "---\n",
        "\n",
        "# **14. What is the difference between torch.Tensor and torch.cuda.Tensor in PyTorch?**\n",
        "\n",
        "In PyTorch, `torch.Tensor` is a general-purpose tensor that resides on the CPU by default. It supports all basic operations such as addition, multiplication, reshaping, and indexing. When you create a tensor using `torch.tensor()`, it is stored in the system's main memory (RAM) and processed by the CPU.\n",
        "\n",
        "On the other hand, `torch.cuda.Tensor` is a tensor that is specifically stored on the GPU memory (VRAM) and is processed by the GPU. These tensors enable faster computation, especially useful for large neural networks and training with big datasets.\n",
        "\n",
        "To move a tensor from CPU to GPU, you use the `.to()` or `.cuda()` method:\n",
        "\n",
        "```python\n",
        "cpu_tensor = torch.tensor([1, 2, 3])\n",
        "gpu_tensor = cpu_tensor.to('cuda')  # Now it's a torch.cuda.Tensor\n",
        "```\n",
        "\n",
        "You cannot perform operations between a CPU tensor and a GPU tensor directly. They must be on the same device. In summary, the main difference is the **device where the tensor is stored and computed** — CPU vs GPU.\n",
        "\n",
        "---\n",
        "\n",
        "# **15. What is the purpose of the torch.optim module in PyTorch?**\n",
        "\n",
        "The `torch.optim` module provides optimization algorithms used to update model parameters during training. When a neural network is trained, we calculate the loss between predicted and actual values. The optimizer adjusts the weights of the model to reduce this loss.\n",
        "\n",
        "Some common optimizers in this module include:\n",
        "\n",
        "* `optim.SGD` (Stochastic Gradient Descent)\n",
        "* `optim.Adam` (Adaptive Moment Estimation)\n",
        "* `optim.RMSprop`\n",
        "\n",
        "Here’s a basic example:\n",
        "\n",
        "```python\n",
        "optimizer = torch.optim.Adam(model.parameters(), lr=0.001)\n",
        "```\n",
        "\n",
        "You typically call `optimizer.zero_grad()` to clear old gradients, `loss.backward()` to compute new gradients, and `optimizer.step()` to update the weights. In short, this module helps the model learn by optimizing its weights based on gradients.\n",
        "\n",
        "---\n",
        "\n",
        "# **16. What are some common activation functions used in neural networks?**\n",
        "\n",
        "Activation functions introduce non-linearity into the model, allowing neural networks to learn complex patterns. Without them, a neural network would behave like a simple linear function.\n",
        "\n",
        "Some commonly used activation functions are:\n",
        "\n",
        "1. **ReLU (Rectified Linear Unit)**\n",
        "\n",
        "   * Formula: `f(x) = max(0, x)`\n",
        "   * Most commonly used in hidden layers. It's fast and reduces the chance of vanishing gradients.\n",
        "\n",
        "2. **Sigmoid**\n",
        "\n",
        "   * Formula: `f(x) = 1 / (1 + e^-x)`\n",
        "   * Maps values between 0 and 1. Used in binary classification but can suffer from vanishing gradient.\n",
        "\n",
        "3. **Tanh (Hyperbolic Tangent)**\n",
        "\n",
        "   * Formula: `f(x) = (e^x - e^-x) / (e^x + e^-x)`\n",
        "   * Outputs range from -1 to 1. Centered around zero, which helps in optimization.\n",
        "\n",
        "4. **Softmax**\n",
        "\n",
        "   * Converts outputs into probabilities that sum to 1. Used in the output layer of multi-class classification.\n",
        "\n",
        "These activation functions are essential for the learning ability of deep networks.\n",
        "\n",
        "---\n",
        "\n",
        "# **17. What is the difference between torch.nn.Module and torch.nn.Sequential in PyTorch?**\n",
        "\n",
        "`torch.nn.Module` is the base class for all neural network models in PyTorch. When you build a custom model, you inherit from `nn.Module` and define the layers and forward pass manually. It gives full flexibility to build complex and dynamic architectures.\n",
        "\n",
        "Example:\n",
        "\n",
        "```python\n",
        "class MyModel(nn.Module):\n",
        "    def __init__(self):\n",
        "        super(MyModel, self).__init__()\n",
        "        self.fc1 = nn.Linear(10, 50)\n",
        "        self.relu = nn.ReLU()\n",
        "        self.fc2 = nn.Linear(50, 1)\n",
        "\n",
        "    def forward(self, x):\n",
        "        x = self.fc1(x)\n",
        "        x = self.relu(x)\n",
        "        x = self.fc2(x)\n",
        "        return x\n",
        "```\n",
        "\n",
        "`torch.nn.Sequential` is a simpler way to stack layers in order. It is useful for models that follow a straight path from input to output without complex logic.\n",
        "\n",
        "Example:\n",
        "\n",
        "```python\n",
        "model = nn.Sequential(\n",
        "    nn.Linear(10, 50),\n",
        "    nn.ReLU(),\n",
        "    nn.Linear(50, 1)\n",
        ")\n",
        "```\n",
        "\n",
        "In short, use `nn.Module` for more control and flexibility, and `nn.Sequential` for quick prototyping of straightforward models.\n",
        "\n",
        "---\n",
        "\n",
        "# **18. How can you monitor training progress in TensorFlow 2.0?**\n",
        "\n",
        "You can monitor training progress in TensorFlow 2.0 using several methods:\n",
        "\n",
        "1. **Using built-in output from `model.fit()`**\n",
        "\n",
        "   * Shows loss and metrics after each epoch.\n",
        "2. **Using callbacks like `TensorBoard`**\n",
        "\n",
        "   * Allows real-time visualization of loss, accuracy, learning rate, and even model graphs.\n",
        "\n",
        "Example:\n",
        "\n",
        "```python\n",
        "from tensorflow.keras.callbacks import TensorBoard\n",
        "tensorboard_callback = TensorBoard(log_dir=\"logs/\")\n",
        "model.fit(X_train, y_train, epochs=5, callbacks=[tensorboard_callback])\n",
        "```\n",
        "\n",
        "3. **Other callbacks like `EarlyStopping` or `ModelCheckpoint`**\n",
        "\n",
        "   * These provide information and control over training by stopping early or saving the best model.\n",
        "\n",
        "By using these tools, you can better understand how your model is learning and detect issues like overfitting or underfitting early in the process.\n",
        "\n",
        "---\n",
        "\n",
        "# **19. How does the Keras API fit into TensorFlow 2.0?**\n",
        "\n",
        "In TensorFlow 2.0, Keras is the official high-level API for building and training models. It is integrated into TensorFlow as `tf.keras`.\n",
        "\n",
        "Keras provides a user-friendly and clean interface to define models using either the Sequential API or the Functional API. It simplifies tasks like layer creation, compilation, training, evaluation, and saving/loading models.\n",
        "\n",
        "Example:\n",
        "\n",
        "```python\n",
        "from tensorflow import keras\n",
        "model = keras.Sequential([\n",
        "    keras.layers.Dense(64, activation='relu'),\n",
        "    keras.layers.Dense(1)\n",
        "])\n",
        "model.compile(optimizer='adam', loss='mse')\n",
        "```\n",
        "\n",
        "Keras in TensorFlow 2.0 also supports advanced features like custom training loops, callbacks, and integration with TensorBoard. This makes it both beginner-friendly and powerful for production.\n",
        "\n",
        "---\n",
        "\n",
        "# **20. What is an example of a deep learning project that can be implemented using TensorFlow 2.0?**\n",
        "\n",
        "A common and practical deep learning project using TensorFlow 2.0 is **image classification with the CIFAR-10 dataset**.\n",
        "\n",
        "In this project, you:\n",
        "\n",
        "1. Load the CIFAR-10 dataset using `tf.keras.datasets`.\n",
        "2. Preprocess the data by normalizing the images.\n",
        "3. Build a Convolutional Neural Network (CNN) using `tf.keras.Sequential`.\n",
        "4. Train the model using `model.fit()`.\n",
        "5. Evaluate it and use `TensorBoard` to monitor performance.\n",
        "\n",
        "This project teaches key concepts like CNN layers, activation functions, model compilation, and overfitting prevention. It is a good starting point for computer vision tasks using TensorFlow.\n",
        "\n",
        "---\n",
        "\n",
        "# **21. What is the main advantage of using pre-trained models in TensorFlow and PyTorch?**\n",
        "\n",
        "The main advantage of using pre-trained models is that they save **time, resources, and effort** by allowing you to build on top of already trained models. These models have learned useful features from large datasets like ImageNet or Common Crawl.\n",
        "\n",
        "Benefits include:\n",
        "\n",
        "1. **Faster development**: You can fine-tune a model instead of training from scratch.\n",
        "2. **Better performance with less data**: Pre-trained models often generalize better, even with smaller custom datasets.\n",
        "3. **Avoids high computational costs**: Training large models requires powerful GPUs and time, which pre-trained models eliminate.\n",
        "\n",
        "In both TensorFlow and PyTorch, popular pre-trained models include ResNet, MobileNet, BERT, and GPT. You can load them easily and adapt them to your specific task, such as classification, object detection, or text generation.\n",
        "\n",
        "---\n",
        "\n",
        "\n"
      ],
      "metadata": {
        "id": "Bv27V2vORpJa"
      }
    },
    {
      "cell_type": "markdown",
      "source": [
        "# Practical Question"
      ],
      "metadata": {
        "id": "lDkUujYR2fT0"
      }
    },
    {
      "cell_type": "code",
      "execution_count": null,
      "metadata": {
        "id": "CMMxBVC5Rmha",
        "colab": {
          "base_uri": "https://localhost:8080/"
        },
        "outputId": "443e6b60-811e-4c8a-e9df-46b250aa530d"
      },
      "outputs": [
        {
          "output_type": "stream",
          "name": "stdout",
          "text": [
            "\u001b[31mERROR: Could not find a version that satisfies the requirement tensorflow==2.0.0 (from versions: 2.12.0rc0, 2.12.0rc1, 2.12.0, 2.12.1, 2.13.0rc0, 2.13.0rc1, 2.13.0rc2, 2.13.0, 2.13.1, 2.14.0rc0, 2.14.0rc1, 2.14.0, 2.14.1, 2.15.0rc0, 2.15.0rc1, 2.15.0, 2.15.0.post1, 2.15.1, 2.16.0rc0, 2.16.1, 2.16.2, 2.17.0rc0, 2.17.0rc1, 2.17.0, 2.17.1, 2.18.0rc0, 2.18.0rc1, 2.18.0rc2, 2.18.0, 2.18.1, 2.19.0rc0, 2.19.0)\u001b[0m\u001b[31m\n",
            "\u001b[0m\u001b[31mERROR: No matching distribution found for tensorflow==2.0.0\u001b[0m\u001b[31m\n",
            "\u001b[0m2.18.0\n"
          ]
        }
      ],
      "source": [
        "#1. How do you install and verify that TensorFlow 2.0 was installed successfully ?\n",
        "\n",
        "%pip install tensorflow==2.0.0\n",
        "\n",
        "import tensorflow as tf\n",
        "\n",
        "print(tf.__version__)  # Output: 2.0.0\n"
      ]
    },
    {
      "cell_type": "code",
      "source": [
        "#2.  How can you define a simple function in TensorFlow 2.0 to perform addition ?\n",
        "\n",
        "import tensorflow as tf\n",
        "\n",
        "@tf.function\n",
        "def add_numbers(x, y):\n",
        "    return x + y\n",
        "\n",
        "# Example usage\n",
        "a = tf.constant(5)\n",
        "b = tf.constant(3)\n",
        "\n",
        "result = add_numbers(a, b)\n",
        "print(\"Result:\", result.numpy())  # Output: 8\n"
      ],
      "metadata": {
        "colab": {
          "base_uri": "https://localhost:8080/"
        },
        "id": "g1iPsimd3KML",
        "outputId": "fe0ebfe7-6d2c-45be-e78a-08921b001c02"
      },
      "execution_count": null,
      "outputs": [
        {
          "output_type": "stream",
          "name": "stdout",
          "text": [
            "Result: 8\n"
          ]
        }
      ]
    },
    {
      "cell_type": "code",
      "source": [
        "#3.  How can you create a simple neural network in TensorFlow 2.0 with one hidden layer ?\n",
        "\n",
        "# Step 1: Import required libraries\n",
        "import tensorflow as tf\n",
        "from tensorflow.keras.models import Sequential\n",
        "from tensorflow.keras.layers import Dense\n",
        "\n",
        "# Step 2: Create a simple Sequential model\n",
        "model = Sequential([\n",
        "    Dense(units=8, activation='relu', input_shape=(4,)),  # Hidden layer with 8 neurons\n",
        "    Dense(units=3, activation='softmax')                  # Output layer with 3 classes (example)\n",
        "])\n",
        "\n",
        "# Step 3: Compile the model\n",
        "model.compile(optimizer='adam',\n",
        "              loss='categorical_crossentropy',\n",
        "              metrics=['accuracy'])\n",
        "\n",
        "# Step 4: View model summary\n",
        "model.summary()\n"
      ],
      "metadata": {
        "colab": {
          "base_uri": "https://localhost:8080/",
          "height": 193
        },
        "id": "0-Jx9y273KDK",
        "outputId": "f316f210-e322-4fa4-91dc-e7aa95e30a1e"
      },
      "execution_count": null,
      "outputs": [
        {
          "output_type": "display_data",
          "data": {
            "text/plain": [
              "\u001b[1mModel: \"sequential_2\"\u001b[0m\n"
            ],
            "text/html": [
              "<pre style=\"white-space:pre;overflow-x:auto;line-height:normal;font-family:Menlo,'DejaVu Sans Mono',consolas,'Courier New',monospace\"><span style=\"font-weight: bold\">Model: \"sequential_2\"</span>\n",
              "</pre>\n"
            ]
          },
          "metadata": {}
        },
        {
          "output_type": "display_data",
          "data": {
            "text/plain": [
              "┏━━━━━━━━━━━━━━━━━━━━━━━━━━━━━━━━━┳━━━━━━━━━━━━━━━━━━━━━━━━┳━━━━━━━━━━━━━━━┓\n",
              "┃\u001b[1m \u001b[0m\u001b[1mLayer (type)                   \u001b[0m\u001b[1m \u001b[0m┃\u001b[1m \u001b[0m\u001b[1mOutput Shape          \u001b[0m\u001b[1m \u001b[0m┃\u001b[1m \u001b[0m\u001b[1m      Param #\u001b[0m\u001b[1m \u001b[0m┃\n",
              "┡━━━━━━━━━━━━━━━━━━━━━━━━━━━━━━━━━╇━━━━━━━━━━━━━━━━━━━━━━━━╇━━━━━━━━━━━━━━━┩\n",
              "│ dense_4 (\u001b[38;5;33mDense\u001b[0m)                 │ (\u001b[38;5;45mNone\u001b[0m, \u001b[38;5;34m8\u001b[0m)              │            \u001b[38;5;34m40\u001b[0m │\n",
              "├─────────────────────────────────┼────────────────────────┼───────────────┤\n",
              "│ dense_5 (\u001b[38;5;33mDense\u001b[0m)                 │ (\u001b[38;5;45mNone\u001b[0m, \u001b[38;5;34m3\u001b[0m)              │            \u001b[38;5;34m27\u001b[0m │\n",
              "└─────────────────────────────────┴────────────────────────┴───────────────┘\n"
            ],
            "text/html": [
              "<pre style=\"white-space:pre;overflow-x:auto;line-height:normal;font-family:Menlo,'DejaVu Sans Mono',consolas,'Courier New',monospace\">┏━━━━━━━━━━━━━━━━━━━━━━━━━━━━━━━━━┳━━━━━━━━━━━━━━━━━━━━━━━━┳━━━━━━━━━━━━━━━┓\n",
              "┃<span style=\"font-weight: bold\"> Layer (type)                    </span>┃<span style=\"font-weight: bold\"> Output Shape           </span>┃<span style=\"font-weight: bold\">       Param # </span>┃\n",
              "┡━━━━━━━━━━━━━━━━━━━━━━━━━━━━━━━━━╇━━━━━━━━━━━━━━━━━━━━━━━━╇━━━━━━━━━━━━━━━┩\n",
              "│ dense_4 (<span style=\"color: #0087ff; text-decoration-color: #0087ff\">Dense</span>)                 │ (<span style=\"color: #00d7ff; text-decoration-color: #00d7ff\">None</span>, <span style=\"color: #00af00; text-decoration-color: #00af00\">8</span>)              │            <span style=\"color: #00af00; text-decoration-color: #00af00\">40</span> │\n",
              "├─────────────────────────────────┼────────────────────────┼───────────────┤\n",
              "│ dense_5 (<span style=\"color: #0087ff; text-decoration-color: #0087ff\">Dense</span>)                 │ (<span style=\"color: #00d7ff; text-decoration-color: #00d7ff\">None</span>, <span style=\"color: #00af00; text-decoration-color: #00af00\">3</span>)              │            <span style=\"color: #00af00; text-decoration-color: #00af00\">27</span> │\n",
              "└─────────────────────────────────┴────────────────────────┴───────────────┘\n",
              "</pre>\n"
            ]
          },
          "metadata": {}
        },
        {
          "output_type": "display_data",
          "data": {
            "text/plain": [
              "\u001b[1m Total params: \u001b[0m\u001b[38;5;34m67\u001b[0m (268.00 B)\n"
            ],
            "text/html": [
              "<pre style=\"white-space:pre;overflow-x:auto;line-height:normal;font-family:Menlo,'DejaVu Sans Mono',consolas,'Courier New',monospace\"><span style=\"font-weight: bold\"> Total params: </span><span style=\"color: #00af00; text-decoration-color: #00af00\">67</span> (268.00 B)\n",
              "</pre>\n"
            ]
          },
          "metadata": {}
        },
        {
          "output_type": "display_data",
          "data": {
            "text/plain": [
              "\u001b[1m Trainable params: \u001b[0m\u001b[38;5;34m67\u001b[0m (268.00 B)\n"
            ],
            "text/html": [
              "<pre style=\"white-space:pre;overflow-x:auto;line-height:normal;font-family:Menlo,'DejaVu Sans Mono',consolas,'Courier New',monospace\"><span style=\"font-weight: bold\"> Trainable params: </span><span style=\"color: #00af00; text-decoration-color: #00af00\">67</span> (268.00 B)\n",
              "</pre>\n"
            ]
          },
          "metadata": {}
        },
        {
          "output_type": "display_data",
          "data": {
            "text/plain": [
              "\u001b[1m Non-trainable params: \u001b[0m\u001b[38;5;34m0\u001b[0m (0.00 B)\n"
            ],
            "text/html": [
              "<pre style=\"white-space:pre;overflow-x:auto;line-height:normal;font-family:Menlo,'DejaVu Sans Mono',consolas,'Courier New',monospace\"><span style=\"font-weight: bold\"> Non-trainable params: </span><span style=\"color: #00af00; text-decoration-color: #00af00\">0</span> (0.00 B)\n",
              "</pre>\n"
            ]
          },
          "metadata": {}
        }
      ]
    },
    {
      "cell_type": "code",
      "source": [
        "#4. How can you visualize the training progress using TensorFlow and Matplotlib ?\n",
        "\n",
        "import tensorflow as tf\n",
        "from tensorflow.keras.models import Sequential\n",
        "from tensorflow.keras.layers import Dense\n",
        "import matplotlib.pyplot as plt\n",
        "\n",
        "# Dummy dataset (for example purposes)\n",
        "from sklearn.datasets import load_iris\n",
        "from sklearn.model_selection import train_test_split\n",
        "from tensorflow.keras.utils import to_categorical\n",
        "\n",
        "# Load Iris data\n",
        "data = load_iris()\n",
        "X = data.data\n",
        "y = to_categorical(data.target)\n",
        "\n",
        "# Split data\n",
        "X_train, X_test, y_train, y_test = train_test_split(X, y, test_size=0.2)\n",
        "\n",
        "# Create a simple model\n",
        "model = Sequential([\n",
        "    Dense(10, activation='relu', input_shape=(4,)),\n",
        "    Dense(3, activation='softmax')\n",
        "])\n",
        "\n",
        "# Compile the model\n",
        "model.compile(optimizer='adam',\n",
        "              loss='categorical_crossentropy',\n",
        "              metrics=['accuracy'])\n",
        "\n",
        "# Train the model and store the training history\n",
        "history = model.fit(X_train, y_train, validation_data=(X_test, y_test), epochs=20)\n",
        "\n",
        "# Plotting training history\n",
        "plt.plot(history.history['accuracy'], label='Train Accuracy')\n",
        "plt.plot(history.history['val_accuracy'], label='Val Accuracy')\n",
        "plt.plot(history.history['loss'], label='Train Loss')\n",
        "plt.plot(history.history['val_loss'], label='Val Loss')\n",
        "plt.xlabel('Epoch')\n",
        "plt.ylabel('Accuracy / Loss')\n",
        "plt.title('Training Progress')\n",
        "plt.legend()\n",
        "plt.grid(True)\n",
        "plt.show()\n"
      ],
      "metadata": {
        "colab": {
          "base_uri": "https://localhost:8080/",
          "height": 1000
        },
        "id": "ovrHm0T43J8B",
        "outputId": "13c3e428-a38b-4925-9aa3-d4b3a22519dc"
      },
      "execution_count": null,
      "outputs": [
        {
          "output_type": "stream",
          "name": "stdout",
          "text": [
            "Epoch 1/20\n",
            "\u001b[1m4/4\u001b[0m \u001b[32m━━━━━━━━━━━━━━━━━━━━\u001b[0m\u001b[37m\u001b[0m \u001b[1m4s\u001b[0m 209ms/step - accuracy: 0.2869 - loss: 2.2059 - val_accuracy: 0.4333 - val_loss: 1.8656\n",
            "Epoch 2/20\n",
            "\u001b[1m4/4\u001b[0m \u001b[32m━━━━━━━━━━━━━━━━━━━━\u001b[0m\u001b[37m\u001b[0m \u001b[1m0s\u001b[0m 22ms/step - accuracy: 0.3244 - loss: 1.9930 - val_accuracy: 0.4333 - val_loss: 1.7957\n",
            "Epoch 3/20\n",
            "\u001b[1m4/4\u001b[0m \u001b[32m━━━━━━━━━━━━━━━━━━━━\u001b[0m\u001b[37m\u001b[0m \u001b[1m0s\u001b[0m 28ms/step - accuracy: 0.2910 - loss: 1.9706 - val_accuracy: 0.4333 - val_loss: 1.7286\n",
            "Epoch 4/20\n",
            "\u001b[1m4/4\u001b[0m \u001b[32m━━━━━━━━━━━━━━━━━━━━\u001b[0m\u001b[37m\u001b[0m \u001b[1m0s\u001b[0m 24ms/step - accuracy: 0.3410 - loss: 1.7557 - val_accuracy: 0.4333 - val_loss: 1.6661\n",
            "Epoch 5/20\n",
            "\u001b[1m4/4\u001b[0m \u001b[32m━━━━━━━━━━━━━━━━━━━━\u001b[0m\u001b[37m\u001b[0m \u001b[1m0s\u001b[0m 22ms/step - accuracy: 0.2890 - loss: 1.8303 - val_accuracy: 0.4333 - val_loss: 1.6068\n",
            "Epoch 6/20\n",
            "\u001b[1m4/4\u001b[0m \u001b[32m━━━━━━━━━━━━━━━━━━━━\u001b[0m\u001b[37m\u001b[0m \u001b[1m0s\u001b[0m 22ms/step - accuracy: 0.2910 - loss: 1.7702 - val_accuracy: 0.4333 - val_loss: 1.5513\n",
            "Epoch 7/20\n",
            "\u001b[1m4/4\u001b[0m \u001b[32m━━━━━━━━━━━━━━━━━━━━\u001b[0m\u001b[37m\u001b[0m \u001b[1m0s\u001b[0m 26ms/step - accuracy: 0.3181 - loss: 1.5690 - val_accuracy: 0.4333 - val_loss: 1.5012\n",
            "Epoch 8/20\n",
            "\u001b[1m4/4\u001b[0m \u001b[32m━━━━━━━━━━━━━━━━━━━━\u001b[0m\u001b[37m\u001b[0m \u001b[1m0s\u001b[0m 22ms/step - accuracy: 0.2900 - loss: 1.6640 - val_accuracy: 0.4333 - val_loss: 1.4530\n",
            "Epoch 9/20\n",
            "\u001b[1m4/4\u001b[0m \u001b[32m━━━━━━━━━━━━━━━━━━━━\u001b[0m\u001b[37m\u001b[0m \u001b[1m0s\u001b[0m 23ms/step - accuracy: 0.3192 - loss: 1.5204 - val_accuracy: 0.4333 - val_loss: 1.4092\n",
            "Epoch 10/20\n",
            "\u001b[1m4/4\u001b[0m \u001b[32m━━━━━━━━━━━━━━━━━━━━\u001b[0m\u001b[37m\u001b[0m \u001b[1m0s\u001b[0m 22ms/step - accuracy: 0.3327 - loss: 1.4801 - val_accuracy: 0.4333 - val_loss: 1.3682\n",
            "Epoch 11/20\n",
            "\u001b[1m4/4\u001b[0m \u001b[32m━━━━━━━━━━━━━━━━━━━━\u001b[0m\u001b[37m\u001b[0m \u001b[1m0s\u001b[0m 24ms/step - accuracy: 0.2931 - loss: 1.4761 - val_accuracy: 0.4333 - val_loss: 1.3305\n",
            "Epoch 12/20\n",
            "\u001b[1m4/4\u001b[0m \u001b[32m━━━━━━━━━━━━━━━━━━━━\u001b[0m\u001b[37m\u001b[0m \u001b[1m0s\u001b[0m 26ms/step - accuracy: 0.3077 - loss: 1.4225 - val_accuracy: 0.4333 - val_loss: 1.2955\n",
            "Epoch 13/20\n",
            "\u001b[1m4/4\u001b[0m \u001b[32m━━━━━━━━━━━━━━━━━━━━\u001b[0m\u001b[37m\u001b[0m \u001b[1m0s\u001b[0m 23ms/step - accuracy: 0.3317 - loss: 1.3329 - val_accuracy: 0.4333 - val_loss: 1.2639\n",
            "Epoch 14/20\n",
            "\u001b[1m4/4\u001b[0m \u001b[32m━━━━━━━━━━━━━━━━━━━━\u001b[0m\u001b[37m\u001b[0m \u001b[1m0s\u001b[0m 22ms/step - accuracy: 0.3171 - loss: 1.3258 - val_accuracy: 0.4333 - val_loss: 1.2342\n",
            "Epoch 15/20\n",
            "\u001b[1m4/4\u001b[0m \u001b[32m━━━━━━━━━━━━━━━━━━━━\u001b[0m\u001b[37m\u001b[0m \u001b[1m0s\u001b[0m 21ms/step - accuracy: 0.2817 - loss: 1.3140 - val_accuracy: 0.4333 - val_loss: 1.2069\n",
            "Epoch 16/20\n",
            "\u001b[1m4/4\u001b[0m \u001b[32m━━━━━━━━━━━━━━━━━━━━\u001b[0m\u001b[37m\u001b[0m \u001b[1m0s\u001b[0m 22ms/step - accuracy: 0.3067 - loss: 1.2540 - val_accuracy: 0.4333 - val_loss: 1.1814\n",
            "Epoch 17/20\n",
            "\u001b[1m4/4\u001b[0m \u001b[32m━━━━━━━━━━━━━━━━━━━━\u001b[0m\u001b[37m\u001b[0m \u001b[1m0s\u001b[0m 23ms/step - accuracy: 0.2577 - loss: 1.3016 - val_accuracy: 0.4333 - val_loss: 1.1560\n",
            "Epoch 18/20\n",
            "\u001b[1m4/4\u001b[0m \u001b[32m━━━━━━━━━━━━━━━━━━━━\u001b[0m\u001b[37m\u001b[0m \u001b[1m0s\u001b[0m 25ms/step - accuracy: 0.3015 - loss: 1.2340 - val_accuracy: 0.4333 - val_loss: 1.1330\n",
            "Epoch 19/20\n",
            "\u001b[1m4/4\u001b[0m \u001b[32m━━━━━━━━━━━━━━━━━━━━\u001b[0m\u001b[37m\u001b[0m \u001b[1m0s\u001b[0m 25ms/step - accuracy: 0.2858 - loss: 1.2163 - val_accuracy: 0.4333 - val_loss: 1.1115\n",
            "Epoch 20/20\n",
            "\u001b[1m4/4\u001b[0m \u001b[32m━━━━━━━━━━━━━━━━━━━━\u001b[0m\u001b[37m\u001b[0m \u001b[1m0s\u001b[0m 25ms/step - accuracy: 0.3067 - loss: 1.1733 - val_accuracy: 0.4333 - val_loss: 1.0916\n"
          ]
        },
        {
          "output_type": "display_data",
          "data": {
            "text/plain": [
              "<Figure size 640x480 with 1 Axes>"
            ],
            "image/png": "[encoded data removed]"
          },
          "metadata": {}
        }
      ]
    },
    {
      "cell_type": "code",
      "source": [
        "#5.  How do you install PyTorch and verify the PyTorch installation ?\n",
        "\n",
        "# Install PyTorch (if not already installed) and verify installation\n",
        "!pip install torch torchvision torchaudio --quiet\n",
        "\n",
        "import torch\n",
        "print(\"PyTorch version:\", torch.__version__)\n",
        "print(\"CUDA available:\", torch.cuda.is_available())\n",
        "print(\"CUDA device name:\" if torch.cuda.is_available() else \"No CUDA device\",\n",
        "      torch.cuda.get_device_name(0) if torch.cuda.is_available() else \"\")\n"
      ],
      "metadata": {
        "colab": {
          "base_uri": "https://localhost:8080/"
        },
        "id": "FAZRPwZC3JxY",
        "outputId": "9316c6da-e14a-4b3c-f801-179b55f2e3b8"
      },
      "execution_count": null,
      "outputs": [
        {
          "output_type": "stream",
          "name": "stdout",
          "text": [
            "\u001b[2K   \u001b[90m━━━━━━━━━━━━━━━━━━━━━━━━━━━━━━━━━━━━━━━━\u001b[0m \u001b[32m363.4/363.4 MB\u001b[0m \u001b[31m3.0 MB/s\u001b[0m eta \u001b[36m0:00:00\u001b[0m\n",
            "\u001b[2K   \u001b[90m━━━━━━━━━━━━━━━━━━━━━━━━━━━━━━━━━━━━━━━━\u001b[0m \u001b[32m13.8/13.8 MB\u001b[0m \u001b[31m64.4 MB/s\u001b[0m eta \u001b[36m0:00:00\u001b[0m\n",
            "\u001b[2K   \u001b[90m━━━━━━━━━━━━━━━━━━━━━━━━━━━━━━━━━━━━━━━━\u001b[0m \u001b[32m24.6/24.6 MB\u001b[0m \u001b[31m35.2 MB/s\u001b[0m eta \u001b[36m0:00:00\u001b[0m\n",
            "\u001b[2K   \u001b[90m━━━━━━━━━━━━━━━━━━━━━━━━━━━━━━━━━━━━━━━━\u001b[0m \u001b[32m883.7/883.7 kB\u001b[0m \u001b[31m38.8 MB/s\u001b[0m eta \u001b[36m0:00:00\u001b[0m\n",
            "\u001b[2K   \u001b[90m━━━━━━━━━━━━━━━━━━━━━━━━━━━━━━━━━━━━━━━━\u001b[0m \u001b[32m664.8/664.8 MB\u001b[0m \u001b[31m1.2 MB/s\u001b[0m eta \u001b[36m0:00:00\u001b[0m\n",
            "\u001b[2K   \u001b[90m━━━━━━━━━━━━━━━━━━━━━━━━━━━━━━━━━━━━━━━━\u001b[0m \u001b[32m211.5/211.5 MB\u001b[0m \u001b[31m4.4 MB/s\u001b[0m eta \u001b[36m0:00:00\u001b[0m\n",
            "\u001b[2K   \u001b[90m━━━━━━━━━━━━━━━━━━━━━━━━━━━━━━━━━━━━━━━━\u001b[0m \u001b[32m56.3/56.3 MB\u001b[0m \u001b[31m13.1 MB/s\u001b[0m eta \u001b[36m0:00:00\u001b[0m\n",
            "\u001b[2K   \u001b[90m━━━━━━━━━━━━━━━━━━━━━━━━━━━━━━━━━━━━━━━━\u001b[0m \u001b[32m127.9/127.9 MB\u001b[0m \u001b[31m7.8 MB/s\u001b[0m eta \u001b[36m0:00:00\u001b[0m\n",
            "\u001b[2K   \u001b[90m━━━━━━━━━━━━━━━━━━━━━━━━━━━━━━━━━━━━━━━━\u001b[0m \u001b[32m207.5/207.5 MB\u001b[0m \u001b[31m2.1 MB/s\u001b[0m eta \u001b[36m0:00:00\u001b[0m\n",
            "\u001b[2K   \u001b[90m━━━━━━━━━━━━━━━━━━━━━━━━━━━━━━━━━━━━━━━━\u001b[0m \u001b[32m21.1/21.1 MB\u001b[0m \u001b[31m88.8 MB/s\u001b[0m eta \u001b[36m0:00:00\u001b[0m\n",
            "\u001b[?25hPyTorch version: 2.6.0+cu124\n",
            "CUDA available: False\n",
            "No CUDA device \n"
          ]
        }
      ]
    },
    {
      "cell_type": "code",
      "source": [
        "#6. How do you create a simple neural network in PyTorch ?\n",
        "\n",
        "# Simple Neural Network in PyTorch\n",
        "\n",
        "import torch\n",
        "import torch.nn as nn\n",
        "import torch.nn.functional as F\n",
        "\n",
        "# Define the neural network with one hidden layer\n",
        "class SimpleNN(nn.Module):\n",
        "    def __init__(self):\n",
        "        super(SimpleNN, self).__init__()\n",
        "        self.fc1 = nn.Linear(4, 8)   # input layer (4 features) → hidden layer (8 neurons)\n",
        "        self.fc2 = nn.Linear(8, 3)   # hidden layer → output layer (3 classes)\n",
        "\n",
        "    def forward(self, x):\n",
        "        x = F.relu(self.fc1(x))      # ReLU activation after first layer\n",
        "        x = self.fc2(x)              # Output layer (no activation here; handled later during training)\n",
        "        return x\n",
        "\n",
        "# Create an instance of the model\n",
        "model = SimpleNN()\n",
        "print(model)\n"
      ],
      "metadata": {
        "colab": {
          "base_uri": "https://localhost:8080/"
        },
        "id": "vPJbiEyU3JrL",
        "outputId": "84acef35-3bb6-450a-855a-ec0dd8771bae"
      },
      "execution_count": null,
      "outputs": [
        {
          "output_type": "stream",
          "name": "stdout",
          "text": [
            "SimpleNN(\n",
            "  (fc1): Linear(in_features=4, out_features=8, bias=True)\n",
            "  (fc2): Linear(in_features=8, out_features=3, bias=True)\n",
            ")\n"
          ]
        }
      ]
    },
    {
      "cell_type": "code",
      "source": [
        "#7. How do you define a loss function and optimizer in PyTorch ?\n",
        "\n",
        "import torch\n",
        "import torch.nn as nn\n",
        "import torch.optim as optim\n",
        "\n",
        "# Example model\n",
        "model = nn.Sequential(\n",
        "    nn.Linear(4, 8),       # Input layer → Hidden layer\n",
        "    nn.ReLU(),\n",
        "    nn.Linear(8, 3)        # Hidden layer → Output layer\n",
        ")\n",
        "\n",
        "# Define the loss function\n",
        "criterion = nn.CrossEntropyLoss()   # Used for multi-class classification\n",
        "\n",
        "# Define the optimizer\n",
        "optimizer = optim.Adam(model.parameters(), lr=0.01)  # Adam optimizer with learning rate = 0.01\n",
        "\n",
        "# Print to verify\n",
        "print(\"Loss function:\", criterion)\n",
        "print(\"Optimizer:\", optimizer)\n"
      ],
      "metadata": {
        "colab": {
          "base_uri": "https://localhost:8080/"
        },
        "id": "2wgWx8GP3JkX",
        "outputId": "2923a34e-efc8-4c26-852a-1bd15f1d50d6"
      },
      "execution_count": null,
      "outputs": [
        {
          "output_type": "stream",
          "name": "stdout",
          "text": [
            "Loss function: CrossEntropyLoss()\n",
            "Optimizer: Adam (\n",
            "Parameter Group 0\n",
            "    amsgrad: False\n",
            "    betas: (0.9, 0.999)\n",
            "    capturable: False\n",
            "    differentiable: False\n",
            "    eps: 1e-08\n",
            "    foreach: None\n",
            "    fused: None\n",
            "    lr: 0.01\n",
            "    maximize: False\n",
            "    weight_decay: 0\n",
            ")\n"
          ]
        }
      ]
    },
    {
      "cell_type": "code",
      "source": [
        "#8. How do you implement a custom loss function in PyTorch ?\n",
        "\n",
        "import torch\n",
        "import torch.nn as nn\n",
        "\n",
        "# Define a custom loss function (Mean Squared Error)\n",
        "class CustomMSELoss(nn.Module):\n",
        "    def __init__(self):\n",
        "        super(CustomMSELoss, self).__init__()\n",
        "\n",
        "    def forward(self, y_pred, y_true):\n",
        "        return torch.mean((y_pred - y_true) ** 2)\n",
        "\n",
        "# Example usage\n",
        "y_pred = torch.tensor([[2.0], [3.0]], requires_grad=True)\n",
        "y_true = torch.tensor([[1.0], [2.0]])\n",
        "\n",
        "# Create an instance of the custom loss\n",
        "custom_loss = CustomMSELoss()\n",
        "loss = custom_loss(y_pred, y_true)\n",
        "\n",
        "print(\"Custom MSE Loss:\", loss.item())\n"
      ],
      "metadata": {
        "colab": {
          "base_uri": "https://localhost:8080/"
        },
        "id": "MFJMV1j73Jd8",
        "outputId": "b7dededb-af2b-47e1-c270-e960b59e4c95"
      },
      "execution_count": null,
      "outputs": [
        {
          "output_type": "stream",
          "name": "stdout",
          "text": [
            "Custom MSE Loss: 1.0\n"
          ]
        }
      ]
    },
    {
      "cell_type": "code",
      "source": [
        "#9. How do you save and load a TensorFlow model ?\n",
        "\n",
        "import tensorflow as tf\n",
        "from tensorflow.keras.models import Sequential\n",
        "from tensorflow.keras.layers import Dense\n",
        "\n",
        "# Create and compile a simple model\n",
        "model = Sequential([\n",
        "    Dense(8, activation='relu', input_shape=(4,)),\n",
        "    Dense(3, activation='softmax')\n",
        "])\n",
        "model.compile(optimizer='adam', loss='categorical_crossentropy', metrics=['accuracy'])\n",
        "\n",
        "# Save the model to a file\n",
        "model.save('my_model.h5')  # Saves in HDF5 format\n",
        "\n",
        "# Load the saved model\n",
        "loaded_model = tf.keras.models.load_model('my_model.h5')\n",
        "\n",
        "# Verify by printing summary\n",
        "loaded_model.summary()\n"
      ],
      "metadata": {
        "colab": {
          "base_uri": "https://localhost:8080/",
          "height": 298
        },
        "id": "xx2EaJhR3JXf",
        "outputId": "674311e1-aede-4f32-f3ad-6246743810a5"
      },
      "execution_count": null,
      "outputs": [
        {
          "output_type": "stream",
          "name": "stderr",
          "text": [
            "/usr/local/lib/python3.11/dist-packages/keras/src/layers/core/dense.py:87: UserWarning: Do not pass an `input_shape`/`input_dim` argument to a layer. When using Sequential models, prefer using an `Input(shape)` object as the first layer in the model instead.\n",
            "  super().__init__(activity_regularizer=activity_regularizer, **kwargs)\n",
            "WARNING:absl:You are saving your model as an HDF5 file via `model.save()` or `keras.saving.save_model(model)`. This file format is considered legacy. We recommend using instead the native Keras format, e.g. `model.save('my_model.keras')` or `keras.saving.save_model(model, 'my_model.keras')`. \n",
            "WARNING:absl:Compiled the loaded model, but the compiled metrics have yet to be built. `model.compile_metrics` will be empty until you train or evaluate the model.\n"
          ]
        },
        {
          "output_type": "display_data",
          "data": {
            "text/plain": [
              "\u001b[1mModel: \"sequential_4\"\u001b[0m\n"
            ],
            "text/html": [
              "<pre style=\"white-space:pre;overflow-x:auto;line-height:normal;font-family:Menlo,'DejaVu Sans Mono',consolas,'Courier New',monospace\"><span style=\"font-weight: bold\">Model: \"sequential_4\"</span>\n",
              "</pre>\n"
            ]
          },
          "metadata": {}
        },
        {
          "output_type": "display_data",
          "data": {
            "text/plain": [
              "┏━━━━━━━━━━━━━━━━━━━━━━━━━━━━━━━━━┳━━━━━━━━━━━━━━━━━━━━━━━━┳━━━━━━━━━━━━━━━┓\n",
              "┃\u001b[1m \u001b[0m\u001b[1mLayer (type)                   \u001b[0m\u001b[1m \u001b[0m┃\u001b[1m \u001b[0m\u001b[1mOutput Shape          \u001b[0m\u001b[1m \u001b[0m┃\u001b[1m \u001b[0m\u001b[1m      Param #\u001b[0m\u001b[1m \u001b[0m┃\n",
              "┡━━━━━━━━━━━━━━━━━━━━━━━━━━━━━━━━━╇━━━━━━━━━━━━━━━━━━━━━━━━╇━━━━━━━━━━━━━━━┩\n",
              "│ dense_8 (\u001b[38;5;33mDense\u001b[0m)                 │ (\u001b[38;5;45mNone\u001b[0m, \u001b[38;5;34m8\u001b[0m)              │            \u001b[38;5;34m40\u001b[0m │\n",
              "├─────────────────────────────────┼────────────────────────┼───────────────┤\n",
              "│ dense_9 (\u001b[38;5;33mDense\u001b[0m)                 │ (\u001b[38;5;45mNone\u001b[0m, \u001b[38;5;34m3\u001b[0m)              │            \u001b[38;5;34m27\u001b[0m │\n",
              "└─────────────────────────────────┴────────────────────────┴───────────────┘\n"
            ],
            "text/html": [
              "<pre style=\"white-space:pre;overflow-x:auto;line-height:normal;font-family:Menlo,'DejaVu Sans Mono',consolas,'Courier New',monospace\">┏━━━━━━━━━━━━━━━━━━━━━━━━━━━━━━━━━┳━━━━━━━━━━━━━━━━━━━━━━━━┳━━━━━━━━━━━━━━━┓\n",
              "┃<span style=\"font-weight: bold\"> Layer (type)                    </span>┃<span style=\"font-weight: bold\"> Output Shape           </span>┃<span style=\"font-weight: bold\">       Param # </span>┃\n",
              "┡━━━━━━━━━━━━━━━━━━━━━━━━━━━━━━━━━╇━━━━━━━━━━━━━━━━━━━━━━━━╇━━━━━━━━━━━━━━━┩\n",
              "│ dense_8 (<span style=\"color: #0087ff; text-decoration-color: #0087ff\">Dense</span>)                 │ (<span style=\"color: #00d7ff; text-decoration-color: #00d7ff\">None</span>, <span style=\"color: #00af00; text-decoration-color: #00af00\">8</span>)              │            <span style=\"color: #00af00; text-decoration-color: #00af00\">40</span> │\n",
              "├─────────────────────────────────┼────────────────────────┼───────────────┤\n",
              "│ dense_9 (<span style=\"color: #0087ff; text-decoration-color: #0087ff\">Dense</span>)                 │ (<span style=\"color: #00d7ff; text-decoration-color: #00d7ff\">None</span>, <span style=\"color: #00af00; text-decoration-color: #00af00\">3</span>)              │            <span style=\"color: #00af00; text-decoration-color: #00af00\">27</span> │\n",
              "└─────────────────────────────────┴────────────────────────┴───────────────┘\n",
              "</pre>\n"
            ]
          },
          "metadata": {}
        },
        {
          "output_type": "display_data",
          "data": {
            "text/plain": [
              "\u001b[1m Total params: \u001b[0m\u001b[38;5;34m69\u001b[0m (280.00 B)\n"
            ],
            "text/html": [
              "<pre style=\"white-space:pre;overflow-x:auto;line-height:normal;font-family:Menlo,'DejaVu Sans Mono',consolas,'Courier New',monospace\"><span style=\"font-weight: bold\"> Total params: </span><span style=\"color: #00af00; text-decoration-color: #00af00\">69</span> (280.00 B)\n",
              "</pre>\n"
            ]
          },
          "metadata": {}
        },
        {
          "output_type": "display_data",
          "data": {
            "text/plain": [
              "\u001b[1m Trainable params: \u001b[0m\u001b[38;5;34m67\u001b[0m (268.00 B)\n"
            ],
            "text/html": [
              "<pre style=\"white-space:pre;overflow-x:auto;line-height:normal;font-family:Menlo,'DejaVu Sans Mono',consolas,'Courier New',monospace\"><span style=\"font-weight: bold\"> Trainable params: </span><span style=\"color: #00af00; text-decoration-color: #00af00\">67</span> (268.00 B)\n",
              "</pre>\n"
            ]
          },
          "metadata": {}
        },
        {
          "output_type": "display_data",
          "data": {
            "text/plain": [
              "\u001b[1m Non-trainable params: \u001b[0m\u001b[38;5;34m0\u001b[0m (0.00 B)\n"
            ],
            "text/html": [
              "<pre style=\"white-space:pre;overflow-x:auto;line-height:normal;font-family:Menlo,'DejaVu Sans Mono',consolas,'Courier New',monospace\"><span style=\"font-weight: bold\"> Non-trainable params: </span><span style=\"color: #00af00; text-decoration-color: #00af00\">0</span> (0.00 B)\n",
              "</pre>\n"
            ]
          },
          "metadata": {}
        },
        {
          "output_type": "display_data",
          "data": {
            "text/plain": [
              "\u001b[1m Optimizer params: \u001b[0m\u001b[38;5;34m2\u001b[0m (12.00 B)\n"
            ],
            "text/html": [
              "<pre style=\"white-space:pre;overflow-x:auto;line-height:normal;font-family:Menlo,'DejaVu Sans Mono',consolas,'Courier New',monospace\"><span style=\"font-weight: bold\"> Optimizer params: </span><span style=\"color: #00af00; text-decoration-color: #00af00\">2</span> (12.00 B)\n",
              "</pre>\n"
            ]
          },
          "metadata": {}
        }
      ]
    },
    {
      "cell_type": "code",
      "source": [],
      "metadata": {
        "id": "4hYJHNkh3JEZ"
      },
      "execution_count": null,
      "outputs": []
    }
  ]
}